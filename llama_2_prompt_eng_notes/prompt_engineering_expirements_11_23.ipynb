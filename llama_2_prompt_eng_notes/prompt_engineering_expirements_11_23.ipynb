{
 "cells": [
  {
   "cell_type": "markdown",
   "metadata": {},
   "source": [
    "# Llama 2: Prompt Engineering Expirements to Extract Information\n",
    "\n",
    "This notebook documents expirements with Llama 2 prompts. "
   ]
  },
  {
   "cell_type": "code",
   "execution_count": 1,
   "metadata": {},
   "outputs": [],
   "source": [
    "import requests, time, os, json\n",
    "from dotenv import load_dotenv\n",
    "from IPython.display import display, HTML"
   ]
  },
  {
   "cell_type": "code",
   "execution_count": 2,
   "metadata": {},
   "outputs": [],
   "source": [
    "# To use Llama 2 70B on HuggingFace requires an authentication token and HuggingFace Pro account that cost $9 a month.  \n",
    "# To learn more see \n",
    "# - https://huggingface.co/meta-llama/Llama-2-70b-chat-hf?inference_api=true\n",
    "# - https://huggingface.co/pricing\n",
    "\n",
    "# Loading authentication token from .env file\n",
    "load_dotenv()\n",
    "token = os.getenv(\"hgf_token\")\n"
   ]
  },
  {
   "cell_type": "markdown",
   "metadata": {},
   "source": [
    "### Generalize methods and class that will be used in the expirements below"
   ]
  },
  {
   "cell_type": "code",
   "execution_count": 3,
   "metadata": {},
   "outputs": [],
   "source": [
    "# Object to represent an answer from Llama\n",
    "class Answer:\n",
    "    def __init__(self, answer, elapse):\n",
    "        self.answer = answer\n",
    "        self.elapse = elapse\n"
   ]
  },
  {
   "cell_type": "code",
   "execution_count": 4,
   "metadata": {},
   "outputs": [],
   "source": [
    "# Function that call Llama on HF and return answer is text\n",
    "def generate(prompt: str) -> str:\n",
    "\n",
    "    API_URL = \"https://api-inference.huggingface.co/models/meta-llama/Llama-2-70b-chat-hf\"\n",
    "    headers = {\n",
    "        \"Authorization\": f\"Bearer {token}\",\n",
    "        \"content-type\": \"application/json\",\n",
    "    }\n",
    "\n",
    "    options = {\"use_cache\": False}\n",
    "\n",
    "    parameters = {\n",
    "        \"max_length\": 4000,\n",
    "        \"max_new_tokens\": 1000,\n",
    "        \"top_k\": 10,\n",
    "        \"return_full_text\": False,\n",
    "        \"do_sample\": True,\n",
    "        \"num_return_sequences\": 1,\n",
    "        \"temperature\": 0.2,\n",
    "        \"repetition_penalty\": 1.0,\n",
    "        \"length_penalty\": 1.0,\n",
    "    }\n",
    "\n",
    "    payload = {\"inputs\": prompt, \"parameters\": parameters, \"options\": options}\n",
    "\n",
    "    response = requests.post(API_URL, headers=headers, json=payload)\n",
    "    if response.status_code != 200:\n",
    "        return f\"Error code {response.status_code}. Message {response.content}\"\n",
    "    else:\n",
    "        results = response.json()\n",
    "        answer = results[0]['generated_text']\n",
    "        return answer"
   ]
  },
  {
   "cell_type": "code",
   "execution_count": 5,
   "metadata": {},
   "outputs": [],
   "source": [
    "# Wrapper function that run generate and return an Answer\n",
    "def run_prompt(prompt: str) -> Answer:\n",
    "    start_time = time.time()\n",
    "    answer = generate(prompt)\n",
    "    end_time = time.time()\n",
    "    elapse = round(end_time - start_time)\n",
    "    return Answer(answer, elapse)"
   ]
  },
  {
   "cell_type": "code",
   "execution_count": 6,
   "metadata": {},
   "outputs": [],
   "source": [
    "# Display answer object in HTML\n",
    "def display_answer(answer: Answer, header = ''):\n",
    "    answer_html_template = \"\"\"<h3>{HEADER} Answer - Time to Generate: {ELAPSE} seconds</h3>\n",
    "    <textarea cols='100' rows={NUM_ROWS}>{ANSWER}</textarea>\"\"\"\n",
    "    \n",
    "    number_rows = (len(answer.answer.split(' ')) / 10)\n",
    "    \n",
    "    html = answer_html_template.format(ANSWER=answer.answer, ELAPSE=answer.elapse, HEADER=header, NUM_ROWS=number_rows)\n",
    "    display(HTML(html))"
   ]
  },
  {
   "cell_type": "markdown",
   "metadata": {},
   "source": [
    "## The Expirements Focus\n",
    "The expirements will be focused on extracting information from a blogpost from Addresson Horoviz about mobile games soft launch. Since the Llama have size limit of tokens a subset of the post is used.  "
   ]
  },
  {
   "cell_type": "code",
   "execution_count": 7,
   "metadata": {},
   "outputs": [
    {
     "name": "stdout",
     "output_type": "stream",
     "text": [
      "Play to Win: Mobile Game Soft Launch Best Practices\n",
      "Doug McCracken and Joshua Lu\n",
      "\n",
      "We hear a lot of discussion around the best practices for launching a mobile game, and one particular topic that often comes up is: whether or not to do a soft launch. And if you do soft launch, how can you tell if your game will be successful? Much of the mobile games industry has taken the tactic of soft launching seriously – in September alone, there were more than 100 games soft launched on the Apple App Store and over 600 on the Google Play Store.\n",
      "\n",
      "This blog post will explore what a soft launch is and why it can be beneficial for game studios. We’ll also dispel some of the myths that are commonly associated with soft launches and help you figure out if this strategy is right for your game. We’ll also address why there are so many more games soft launched on Google Play (hint: they have more options to support a variety of soft launch strategies).\n",
      "\n",
      "What’s a Soft Launch?\n",
      "A soft launch (or sometimes “geo test” or “beta”) is when a game is released to a limited number of players before it is released worldwide, usually by releasing only to specific countries. This allows developers to test different aspects of the game, such as the gameplay, graphics, and economy in a real-world environment without the pressure of a full release. Soft launch enables player feedback and metrics which can be used to compare to benchmarks that both Apple’s iOS App Store and Google Play offer in their dashboards.\n",
      "\n",
      "There are typically two stages of soft launch: alpha and beta.\n",
      "\n",
      "Alpha is the earlier stage and is often used to test whether the core of the game is working, including the technology and core gameplay loop.\n",
      "Beta is later and is used to test the meta gameplay loop, marketing acquisition, server scalability, and monetization.\n",
      "Why is soft launch important to consider? Because you only get one shot at a first impression with most of your potential players and you want to make sure the game has the best possible shot at being successful when you launch globally. Mobile gamers are spoiled by choice and have a low propensity to return post-churn. We’ve seen that typically, it is between 5-10x more expensive to acquire a player who already quit than to acquire a new player.\n",
      "\n",
      "Additionally, distribution is one of the biggest challenges in mobile games – if your users don’t retain or monetize, you’ll have trouble scaling your game via organic growth or paid acquisition. By releasing the game in stages, developers can get valuable feedback from players that can help improve the game before it is released to everyone.\n",
      "\n",
      "Myths About Soft Launch\n",
      "Before we share more perspective on soft launch strategy, we wanted to dispel some common myths:\n",
      "\n",
      "The country or market chosen for the soft launch will accurately represent how the game will perform worldwide\n",
      "\n",
      "While it’s important to choose a market that closely aligns with your target demographics, it’s also important to keep in mind that every market is unique and may have different reactions to the game. For example, many developers choose Canada to test how a US launch would perform. In our experience, there are too many variables to accurately simulate a launch in another country, however, retention and monetization metrics compared to other regions can give you some directional understanding of performance.\n",
      "\n",
      "Soft launch can only be done on mobile platforms like iOS and Android\n",
      "\n",
      "Though the focus of this post is mobile, a soft launch strategy can also be applied to PC and console games. This can be especially useful for cross platform games to understand the dynamics of players on different platforms, and improve gameplay and performance.\n",
      "\n",
      "Soft launches are expensive\n",
      "\n",
      "The investment required for your soft launch is dependent on your goals for soft launch. If you have a strong understanding of your audience, you will be much more likely to target them via organic or paid means in a cost effective way.\n",
      "\n",
      "You need to soft launch a game for it to succeed\n",
      "\n",
      "Soft launch is a way to solicit player feedback before a broader global launch, but isn’t necessarily needed to be successful. We believe it is usually better to soft launch, but there are plenty of successful games that went straight to global launch.\n",
      "\n",
      "Resetting player progress after a soft launch will anger the community\n",
      "\n",
      "While some players will respond negatively if you reset their progress, many understand that this is the “price of admission” for accessing a game early. As long as you’re upfront with players that the test is limited to a certain number of days, they will understand when the test ends. For example, Supercell recently launched a “Limited Open Beta” to test their game Flood Rush (ultimately based on soft launch Supercell decided not to release globally). If you’re resetting player progress, it is a best practice to refund players who spend during soft launch (or at a minimum, give them the equivalent value of in-game currency to spend later).\n",
      "\n",
      "What Can you Learn from Soft Launch?\n",
      "There are a few questions you should seek to answer with a soft launch, though it’s difficult to answer all of these at a high level of fidelity. If you’re resource constrained, you should think about prioritizing your goals based on what’s most important to the team. \n",
      "\n",
      "Is the game stable/performant? \n",
      "\n",
      "Building a bug-free game is hard, and while your QA team is heroically finding and triaging bugs, there’s nothing like a soft launch to show you where the holes are. Acquiring users at scale from lower-cost geographies is a great way to stress test servers and also get performance data from long-tail devices. There are a TON of lower-spec Android phones that your QA team won’t have and should probably not be purchasing. Some metrics to keep in mind for this sort of testing include: FPS, crash rates/DAU, crashes/crasher, and latency.\n",
      "\n",
      "https://a16z.com/mobile-game-soft-launch/\n",
      "\n"
     ]
    }
   ],
   "source": [
    "# Display the text we going to use\n",
    "with open('mobile-game-soft-launch.txt', 'r') as f:\n",
    "    text = f.read()\n",
    "    \n",
    "print(text)"
   ]
  },
  {
   "cell_type": "markdown",
   "metadata": {},
   "source": [
    "## Expirement 1: Asking Llama to summarize article into TLDR bullet-points\n",
    "Let start by asking Llama to summarize the article for us into bullet points. \n",
    "The results, are not bad. The first two bullet points are pretty good in extracting the imported points in the article. \n",
    "But, as the bullet points continue, it's seems like Llama is just filling space.  "
   ]
  },
  {
   "cell_type": "code",
   "execution_count": 8,
   "metadata": {},
   "outputs": [
    {
     "data": {
      "text/html": [
       "<h3> Answer - Time to Generate: 13 seconds</h3>\n",
       "    <textarea cols='100' rows=15.5>\n",
       "• Soft launch (or beta) is releasing a game to a limited number of players before a full release to test different aspects of the game.\n",
       "• There are two stages of soft launch: alpha and beta. Alpha tests the core gameplay loop and technology, while beta tests the meta gameplay loop, marketing acquisition, server scalability, and monetization.\n",
       "• Soft launch is important because it allows developers to get valuable feedback from players and make improvements before a full release, which can be expensive and have a high propensity to churn.\n",
       "• Myths about soft launch include thinking the country or market chosen will accurately represent a global launch, soft launch can only be done on mobile platforms, soft launches are expensive, and you need to soft launch for a game to succeed.\n",
       "• You can learn if the game is stable and performant, if the gameplay is fun, and how the game will monetize from a soft launch.</textarea>"
      ],
      "text/plain": [
       "<IPython.core.display.HTML object>"
      ]
     },
     "metadata": {},
     "output_type": "display_data"
    }
   ],
   "source": [
    "p1 =  \"\"\"Write a concise summary of the main ideas in article below in bullet-points, don't repeat ideas. article: {BODY}\"\"\".format(BODY=text)\n",
    "\n",
    "display_answer(run_prompt(p1))\n"
   ]
  },
  {
   "cell_type": "markdown",
   "metadata": {},
   "source": [
    "Not bad for first try. Let see if Llama know what is TL;DR (to long; didn't read)\n"
   ]
  },
  {
   "cell_type": "code",
   "execution_count": 9,
   "metadata": {},
   "outputs": [
    {
     "data": {
      "text/html": [
       "<h3> Answer - Time to Generate: 16 seconds</h3>\n",
       "    <textarea cols='100' rows=20.1>\n",
       "• The article discusses the concept of soft launching a mobile game, which involves releasing the game to a limited number of players before a global release.\n",
       "• Soft launching allows developers to test different aspects of the game, such as gameplay, graphics, and economy, in a real-world environment without the pressure of a full release.\n",
       "• There are two stages of soft launch: alpha and beta, with alpha testing the core gameplay loop and technology, and beta testing meta gameplay loop, marketing acquisition, server scalability, and monetization.\n",
       "• Soft launching is important because it allows developers to get valuable feedback from players that can help improve the game before a global release, and it can also help with distribution, which is a major challenge in mobile games.\n",
       "• The article dispels some common myths about soft launching, such as the idea that the country or market chosen for the soft launch will accurately represent how the game will perform worldwide, and the idea that soft launching is expensive.\n",
       "• The article also discusses what can be learned from a soft launch, such as the game's stability and performance, and how it can help developers identify and fix bugs and other issues before a global release.</textarea>"
      ],
      "text/plain": [
       "<IPython.core.display.HTML object>"
      ]
     },
     "metadata": {},
     "output_type": "display_data"
    }
   ],
   "source": [
    "p2 =  \"\"\"Write a concise TL;DR summary in bullet-points for the following article, don't repeat ideas. article: {BODY}\"\"\".format(BODY=text)\n",
    "\n",
    "display_answer(run_prompt(p2))"
   ]
  },
  {
   "cell_type": "markdown",
   "metadata": {},
   "source": [
    "Pretty good, I actually like the TL;DR prompt answer better. But, it's still too many bullet ponints. Let try and reduce the number of bullet points. Let see if we can improve the results by asking Llama to limit the output to three to five points and ask it to number the bullet points."
   ]
  },
  {
   "cell_type": "code",
   "execution_count": 290,
   "metadata": {},
   "outputs": [
    {
     "data": {
      "text/html": [
       "<h3> Answer - Time to Generate: 10 seconds</h3>\n",
       "    <textarea cols='100' rows=8>\n",
       "1. A soft launch is a limited release of a game to a small number of players before its global release to test different aspects of the game.\n",
       "2. There are two stages of soft launch: alpha and beta, with alpha testing the core gameplay loop and technology, and beta testing the meta gameplay loop, marketing acquisition, server scalability, and monetization.\n",
       "3. Soft launch is important because it allows developers to test the game in a real-world environment, get player feedback, and compare metrics to benchmarks offered by app stores.\n",
       "4. Soft launch can be done on mobile platforms like iOS and Android, as well as PC and console games.\n",
       "5. Soft launch is not necessary for a game to succeed, but it can be beneficial in understanding player feedback and improving the game before its global release.</textarea>"
      ],
      "text/plain": [
       "<IPython.core.display.HTML object>"
      ]
     },
     "metadata": {},
     "output_type": "display_data"
    }
   ],
   "source": [
    "p3 =  \"\"\"Write a concise TL;DR summary in numeric bullet-points for the following article, \n",
    "don't repeat ideas in bullet points. Limit the number of bullet point to 5. article: {BODY}\"\"\".format(BODY=text)\n",
    "p3_answer = run_prompt(p3)\n",
    "display_answer(p3_answer)"
   ]
  },
  {
   "cell_type": "markdown",
   "metadata": {},
   "source": [
    "Not bed, Llama listen to me :)"
   ]
  },
  {
   "cell_type": "markdown",
   "metadata": {},
   "source": [
    "# Expirement 2: System Message\n",
    "\n",
    "The Llama paper describe the system message that uses to set the stage and concext for the model. \n",
    "In the following example, I am using the system messsage. Let see what is the different between P3 that doesn't have system message and P4 that use system message.   "
   ]
  },
  {
   "cell_type": "code",
   "execution_count": 291,
   "metadata": {},
   "outputs": [
    {
     "data": {
      "text/html": [
       "<h3>P4 - With System Message Answer - Time to Generate: 13 seconds</h3>\n",
       "    <textarea cols='100' rows=8>\n",
       "1. Soft launch is a way to test a game with a limited number of players before a full release to get feedback and metrics to improve the game.\n",
       "2. There are two stages of soft launch: alpha and beta, with alpha testing the core gameplay loop and technology, and beta testing meta gameplay loop, marketing acquisition, server scalability, and monetization.\n",
       "3. Soft launch is important because it allows developers to make a good first impression, improve the game before a full release, and get valuable feedback from players.\n",
       "4. Myths about soft launch include thinking the country or market chosen for the soft launch will accurately represent the game's performance worldwide, soft launch can only be done on mobile platforms, soft launches are expensive, and you need to soft launch a game for it to succeed.\n",
       "5. A soft launch can help answer questions about the game's stability and performance, and it's a way to solicit player feedback before a broader global launch.</textarea>"
      ],
      "text/plain": [
       "<IPython.core.display.HTML object>"
      ]
     },
     "metadata": {},
     "output_type": "display_data"
    },
    {
     "data": {
      "text/html": [
       "<h3>P3 Answer - Time to Generate: 10 seconds</h3>\n",
       "    <textarea cols='100' rows=8>\n",
       "1. A soft launch is a limited release of a game to a small number of players before its global release to test different aspects of the game.\n",
       "2. There are two stages of soft launch: alpha and beta, with alpha testing the core gameplay loop and technology, and beta testing the meta gameplay loop, marketing acquisition, server scalability, and monetization.\n",
       "3. Soft launch is important because it allows developers to test the game in a real-world environment, get player feedback, and compare metrics to benchmarks offered by app stores.\n",
       "4. Soft launch can be done on mobile platforms like iOS and Android, as well as PC and console games.\n",
       "5. Soft launch is not necessary for a game to succeed, but it can be beneficial in understanding player feedback and improving the game before its global release.</textarea>"
      ],
      "text/plain": [
       "<IPython.core.display.HTML object>"
      ]
     },
     "metadata": {},
     "output_type": "display_data"
    }
   ],
   "source": [
    "p4 = \"\"\"<s>[INST] <<SYS>>\n",
    "You are a helpful, respectful and honest assistant. Always answer as helpfully as possible, while being safe.  \n",
    "Your answers should not include any harmful, unethical, racist, sexist, toxic, dangerous, or illegal content. \n",
    "Please ensure that your responses are socially unbiased and positive in nature.\n",
    "If a question does not make any sense, or is not factually coherent, explain why instead of answering something not correct. \n",
    "If you don't know the answer to a question, please don't share false information.\n",
    "<</SYS>>\n",
    "Write a concise TL;DR summary in numeric bullet-points for the following article, \n",
    "don't repeat ideas in bullet points. Limit the number of bullet-point to 5. article: {BODY}\"\"\".format(BODY=text)\n",
    "\n",
    "p4_answer = run_prompt(p4)\n",
    "display_answer(p4_answer, \"P4 - With System Message\")\n",
    "# Display p3 too for comparision. \n",
    "display_answer(p3_answer, \"P3\")"
   ]
  },
  {
   "cell_type": "markdown",
   "metadata": {},
   "source": [
    "Both P3 and P4 are pretty good and it's hard to see the different the the system message added. I personally prefer P4 (system message) because the answer read a better in my opinion, but I am sure someone will argue with on that. "
   ]
  },
  {
   "cell_type": "markdown",
   "metadata": {},
   "source": [
    "# Expirence 3: Modify the System Message\n",
    "The system message can be modified to better fit to the task and define the persona and context we want Llama to assume. \n",
    "\n",
    "Changes applied to the original system message:\n",
    "- Use the researcher persona and specify the tasks to summarizing articles. \n",
    "- Remove safety instruction, there are not needed since we asking Llama to be truthful to the article. "
   ]
  },
  {
   "cell_type": "code",
   "execution_count": 293,
   "metadata": {},
   "outputs": [
    {
     "data": {
      "text/html": [
       "<h3> Answer - Time to Generate: 15 seconds</h3>\n",
       "    <textarea cols='100' rows=9>  Here are five key points from the article \"Play to Win: Mobile Game Soft Launch Best Practices\" by Doug McCracken and Joshua Lu:\n",
       "\n",
       "1. A soft launch is a limited release of a game to a small number of players before its global release, allowing developers to test and gather feedback on various aspects of the game.\n",
       "2. Soft launches are beneficial for game studios as they allow for testing of gameplay, graphics, and economy in a real-world environment without the pressure of a full release.\n",
       "3. There are two stages of soft launch: alpha and beta. Alpha tests the core gameplay loop and technology, while beta tests the meta gameplay loop, marketing acquisition, server scalability, and monetization.\n",
       "4. Soft launches are important as they allow developers to gather valuable feedback from players, which can help improve the game before its global release.\n",
       "5. Some common myths about soft launches include the idea that the country or market chosen for the soft launch will accurately represent how the game will perform worldwide, and that soft launches are expensive and necessary for a game's success.</textarea>"
      ],
      "text/plain": [
       "<IPython.core.display.HTML object>"
      ]
     },
     "metadata": {},
     "output_type": "display_data"
    }
   ],
   "source": [
    "p5 = \"\"\"<s>[INST] <<SYS>>\n",
    "You are a researcher task in summarizing and writing concise brief of articles.  \n",
    "Please ensure that your responses are socially unbiased and positive in nature.\n",
    "If a question does not make any sense, or is not factually coherent, explain why instead of answering something not correct. \n",
    "If you don't know the answer, please don't share false information.\n",
    "<</SYS>>\n",
    "Write a concise TL;DR summary in numeric bullet-points for the following article, \n",
    "don't repeat ideas in bullet points. Limit the number of bullet-point to 5. article: {BODY}\n",
    "[/INST]\"\"\".format(BODY=text)\n",
    "\n",
    "display_answer(run_prompt(p5))"
   ]
  },
  {
   "cell_type": "markdown",
   "metadata": {},
   "source": [
    "The answer for p5 is the best in my opinion so far. I like the into and conclusion that Llama addeed. "
   ]
  },
  {
   "cell_type": "markdown",
   "metadata": {},
   "source": [
    "# Expirement 4: Asking Questions about the Article"
   ]
  },
  {
   "cell_type": "markdown",
   "metadata": {},
   "source": [
    "The article is about 'Mobile Game Soft Launch' let ask Llama specific question about it. The answer is pretty good. "
   ]
  },
  {
   "cell_type": "code",
   "execution_count": 239,
   "metadata": {},
   "outputs": [
    {
     "data": {
      "text/html": [
       "<h3> Answer - Time to Generate: 14 seconds</h3>\n",
       "    <textarea rows='15' cols='100'>  According to the article, mobile game soft launch solves the following problems:\n",
       "\n",
       "1. Testing the game's stability and performance in a real-world environment before global release.\n",
       "2. Gathering player feedback and metrics to improve the game before global release.\n",
       "3. Testing the game's monetization and retention strategies before global release.\n",
       "4. Identifying and fixing bugs and technical issues before global release.\n",
       "5. Gauging player interest and demand for the game before global release.\n",
       "6. Providing a chance to reset player progress and refund players who spend during the soft launch.\n",
       "7. Allowing developers to soft launch a game in a limited geography to test how it will perform in different markets.\n",
       "8. Providing a way to solicit player feedback before a broader global launch.\n",
       "\n",
       "It's worth noting that the article emphasizes that soft launch is not a guarantee of success, but it can be a valuable tool for game developers to test and improve their game before global release.</textarea>"
      ],
      "text/plain": [
       "<IPython.core.display.HTML object>"
      ]
     },
     "metadata": {},
     "output_type": "display_data"
    }
   ],
   "source": [
    "p6 = \"\"\"<s>[INST] <<SYS>>\n",
    "You are a researcher task with answering questions about an article.  \n",
    "Please ensure that your responses are socially unbiased and positive in nature.\n",
    "If a question does not make any sense, or is not factually coherent, explain why instead of answering something not correct. \n",
    "If you don't know the answer, please don't share false information.\n",
    "<</SYS>>\n",
    "According to the article, what problems does mobile game soft launch solves? Limited the answer to 20 words. \n",
    "Article: {BODY}\n",
    "[/INST]\"\"\".format(BODY=text)\n",
    "\n",
    "display_answer(run_prompt(p6))"
   ]
  },
  {
   "cell_type": "markdown",
   "metadata": {},
   "source": [
    "This is pretty good, let see if we improve on that. By asking Llama what is the article is about and then use the answer to ask additional questions. \n",
    "Prompt 7, asks Llama to tell what the article is about and then the answer is used to generate a prompt 8 that ask a second question.\n",
    "\n",
    "To make it easy to programmatically use the answer, I asked Llama to output the answer in JSON. Using expirements (that I didn't included here) I descover that Llama need a template and being told to only output valid JSON. "
   ]
  },
  {
   "cell_type": "code",
   "execution_count": 295,
   "metadata": {},
   "outputs": [
    {
     "name": "stdout",
     "output_type": "stream",
     "text": [
      "  {\n",
      "\"article_is_about\": \"Mobile game soft launch best practices\"\n",
      "}\n",
      "JSON Answer:\n",
      " {'article_is_about': 'Mobile game soft launch best practices'}\n"
     ]
    },
    {
     "data": {
      "text/html": [
       "<h3>Prompt 8 Answer - Time to Generate: 9 seconds</h3>\n",
       "    <textarea cols='100' rows=3>  According to the article, limited user feedback, game stability and performance, marketing acquisition, monetization, and retention are some of the problems that soft launching can help solve for mobile game developers. A soft launch allows developers to test different aspects of the game, such as gameplay, graphics, and economy, in a real-world environment without the pressure of a full release. This enables player feedback and metrics that can be used to compare to benchmarks offered by app stores. Additionally, soft launching can help developers identify and fix bugs, test the meta gameplay loop, and assess the game's performance in different markets. It also allows for a more cost-effective way to acquire users and test marketing strategies.</textarea>"
      ],
      "text/plain": [
       "<IPython.core.display.HTML object>"
      ]
     },
     "metadata": {},
     "output_type": "display_data"
    }
   ],
   "source": [
    "p7 = \"\"\"<s>[INST] <<SYS>>\n",
    "You are a researcher task with answering questions about an article.  \n",
    "Please ensure that your responses are socially unbiased and positive in nature.\n",
    "If a question does not make any sense, or is not factually coherent, explain why instead of answering something not correct. \n",
    "If you don't know the answer, please don't share false information.\n",
    "<</SYS>>\n",
    "Tell me what is the article about in one to three words? \n",
    "Output the answer in JSON in the following format {{\"article_is_about\": answer}}. Only output JSON\n",
    "Article: {BODY}\n",
    "[/INST]\"\"\".format(BODY=text)\n",
    "\n",
    "a7 = run_prompt(p7)\n",
    "json_a7 = json.loads(a7.answer)\n",
    "print(f\"JSON Answer:\\n {json_a7}\")\n",
    "about = json_a7['article_is_about']\n",
    "\n",
    "\n",
    "p8 = \"\"\"<s>[INST] <<SYS>>\n",
    "You are a researcher task with answering questions about an article.  \n",
    "Please ensure that your responses are socially unbiased and positive in nature.\n",
    "If a question does not make any sense, or is not factually coherent, explain why instead of answering something not correct. \n",
    "If you don't know the answer, please don't share false information.\n",
    "<</SYS>>\n",
    "According to the article, what problems does {{ABOUT}}? Limited the answer to 20 words. \n",
    "Article: {BODY}\n",
    "[/INST]\"\"\".format(BODY=text, ABOUT=about)\n",
    "\n",
    "display_answer(run_prompt(p8),'Prompt 8')\n"
   ]
  },
  {
   "cell_type": "markdown",
   "metadata": {},
   "source": [
    "Wow this is awesume. We can feed answers into new prompts to refine the information we try to extract. \n",
    "\n",
    "Let try a different question. What industry the article is about."
   ]
  },
  {
   "cell_type": "code",
   "execution_count": 269,
   "metadata": {},
   "outputs": [
    {
     "data": {
      "text/html": [
       "<h3> Answer - Time to Generate: 1 seconds</h3>\n",
       "    <textarea cols='100' style=\"background:#fff; height:auto; width:100%;\">  Sure! The industry the article is focused on is the mobile game industry.</textarea>"
      ],
      "text/plain": [
       "<IPython.core.display.HTML object>"
      ]
     },
     "metadata": {},
     "output_type": "display_data"
    }
   ],
   "source": [
    "p9 = \"\"\"<s>[INST] <<SYS>>\n",
    "You are a researcher task with answering questions about an article.  \n",
    "Please ensure that your responses are socially unbiased and positive in nature.\n",
    "If a question does not make any sense, or is not factually coherent, explain why instead of answering something not correct. \n",
    "If you don't know the answer, please don't share false information.\n",
    "<</SYS>>\n",
    "Name the industry the article is focus on? Output only the industry name.\n",
    "Article: {BODY}\n",
    "[/INST]\"\"\".format(BODY=text, ABOUT=about)\n",
    "\n",
    "display_answer(run_prompt(p9))"
   ]
  },
  {
   "cell_type": "markdown",
   "metadata": {},
   "source": [
    "Notice that I asked the answer to include only the industry name, but Llama disregarded my request and wrote a sentence. \n",
    "Let see if we can fixed that by asking the answer to be in JSON. It worked!!! \n",
    "\n",
    "Note: I needed to add \"include only valid JSON\" to prevent Llama then adding an explanation.  "
   ]
  },
  {
   "cell_type": "code",
   "execution_count": 274,
   "metadata": {},
   "outputs": [
    {
     "data": {
      "text/html": [
       "<h3> Answer - Time to Generate: 2 seconds</h3>\n",
       "    <textarea cols='100' rows=5>  {\n",
       "\"industry\": \"Mobile Games\"\n",
       "}</textarea>"
      ],
      "text/plain": [
       "<IPython.core.display.HTML object>"
      ]
     },
     "metadata": {},
     "output_type": "display_data"
    }
   ],
   "source": [
    "p10 = \"\"\"<s>[INST] <<SYS>>\n",
    "You are a researcher task with answering questions about an article.  \n",
    "Please ensure that your responses are socially unbiased and positive in nature.\n",
    "If a question does not make any sense, or is not factually coherent, explain why instead of answering something not correct. \n",
    "If you don't know the answer, please don't share false information.\n",
    "<</SYS>>\n",
    "Name industry the article is focus on? Output only the industry name. Output the answer in JSON, using format {{\"industry\": industry}}.\n",
    "Include only valid JSON.\n",
    "Article: {BODY}\n",
    "[/INST]\"\"\".format(BODY=text, ABOUT=about)\n",
    "\n",
    "display_answer(run_prompt(p10))"
   ]
  },
  {
   "cell_type": "markdown",
   "metadata": {},
   "source": [
    "Let try and trick Llama and ask him what sport is the article focuses on? "
   ]
  },
  {
   "cell_type": "code",
   "execution_count": 279,
   "metadata": {},
   "outputs": [
    {
     "data": {
      "text/html": [
       "<h3> Answer - Time to Generate: 3 seconds</h3>\n",
       "    <textarea cols='100' rows=6>  {\n",
       "\"sport\": null,\n",
       "\"explanation\": \"The article is not focused on a specific sport, but rather on the topic of soft launching mobile games and its benefits for game studios.\"\n",
       "}</textarea>"
      ],
      "text/plain": [
       "<IPython.core.display.HTML object>"
      ]
     },
     "metadata": {},
     "output_type": "display_data"
    }
   ],
   "source": [
    "p11 = \"\"\"<s>[INST] <<SYS>>\n",
    "You are a researcher task with answering questions about an article.  \n",
    "Please ensure that your responses are socially unbiased and positive in nature.\n",
    "If a question does not make any sense, or is not factually coherent, explain why instead of answering something not correct. \n",
    "If you don't know the answer, please don't share false information.\n",
    "<</SYS>>\n",
    "Name sport the article is focus on? Output only the sport name. Output the answer in JSON, using format {{\"sport\": sport, \"explanation\": explanation}}. \n",
    "Include only valid JSON.\n",
    "Article: {BODY}\n",
    "[/INST]\"\"\".format(BODY=text, ABOUT=about)\n",
    "\n",
    "display_answer(run_prompt(p11))"
   ]
  },
  {
   "cell_type": "markdown",
   "metadata": {},
   "source": [
    "Pretty good, but there is one problem. Llama is disregarding my request for valid JSON. The model is eager to explain why sport is null. So I added explanation to JSON and that did the trick.\n",
    "\n",
    "To review, to get Llama to output JSON, I needed to explicity tell it \"only include JSON\", add explanation to the JSON object format and change \"write the answer\" to \"output the answer\".  "
   ]
  },
  {
   "cell_type": "markdown",
   "metadata": {},
   "source": [
    "# Expirement 5: One-to-Many Shot Learning to teach Llama\n",
    "In this last expirement, I want to try and generalize the industry and sport questions by giving Llama examples of what I am looking for.  \n",
    "\n",
    "The following prompt asks Llama to identify general topics mentioned in the article. To explain to Llama what do I mean by generalize topic, I included examples already in JSON.   "
   ]
  },
  {
   "cell_type": "code",
   "execution_count": 282,
   "metadata": {},
   "outputs": [
    {
     "data": {
      "text/html": [
       "<h3> Answer - Time to Generate: 26 seconds</h3>\n",
       "    <textarea cols='100' rows=48>  {\n",
       "\"name\": \"mobile game\",\n",
       "\"type\": \"industry\",\n",
       "\"explanation\": \"The article discusses the importance of soft launching for mobile games and provides insights on how to do it effectively.\"\n",
       "},\n",
       "{\n",
       "\"name\": \"soft launch\",\n",
       "\"type\": \"term\",\n",
       "\"explanation\": \"A soft launch is a limited release of a game to a small number of players before its global release, allowing developers to test and gather feedback.\"\n",
       "},\n",
       "{\n",
       "\"name\": \"alpha\",\n",
       "\"type\": \"stage\",\n",
       "\"explanation\": \"The earlier stage of soft launching, used to test the core gameplay loop, technology, and game's stability.\"\n",
       "},\n",
       "{\n",
       "\"name\": \"beta\",\n",
       "\"type\": \"stage\",\n",
       "\"explanation\": \"The later stage of soft launching, used to test the meta gameplay loop, marketing acquisition, server scalability, and monetization.\"\n",
       "},\n",
       "{\n",
       "\"name\": \"Apple App Store\",\n",
       "\"type\": \"platform\",\n",
       "\"explanation\": \"The app store for Apple devices, where developers can release their games and track player feedback and metrics.\"\n",
       "},\n",
       "{\n",
       "\"name\": \"Google Play Store\",\n",
       "\"type\": \"platform\",\n",
       "\"explanation\": \"The app store for Android devices, where developers can release their games and track player feedback and metrics.\"\n",
       "},\n",
       "{\n",
       "\"name\": \"Supercell\",\n",
       "\"type\": \"company\",\n",
       "\"explanation\": \"A mobile game development company that has successfully used soft launching for their games, including Clash of Clans and Flood Rush.\"\n",
       "},\n",
       "{\n",
       "\"name\": \"Flood Rush\",\n",
       "\"type\": \"game\",\n",
       "\"explanation\": \"A mobile game developed by Supercell that was tested through a limited open beta before its global release.\"\n",
       "},\n",
       "{\n",
       "\"name\": \"QA team\",\n",
       "\"type\": \"team\",\n",
       "\"explanation\": \"A team responsible for testing games and finding bugs before they are released to the public.\"\n",
       "}\n",
       "]</textarea>"
      ],
      "text/plain": [
       "<IPython.core.display.HTML object>"
      ]
     },
     "metadata": {},
     "output_type": "display_data"
    }
   ],
   "source": [
    "p12 = \"\"\"<s>[INST] <<SYS>>\n",
    "You are a researcher task with answering questions about an article.  \n",
    "Please ensure that your responses are socially unbiased and positive in nature.\n",
    "If a question does not make any sense, or is not factually coherent, explain why instead of answering something not correct. \n",
    "If you don't know the answer, please don't share false information.\n",
    "\n",
    "Output answer in JSON using the following format: {{\"name\": name, \"type\": type, \"explanation\": explanation}}\n",
    "<</SYS>>\n",
    "\n",
    "What nouns mentioned in the article that can generalize the topic? [/INST] \n",
    "[\n",
    "{{\"name\": \"semiconductor\", \"type\": \"industry\", \"explanation\": \"Companies engaged in the design and fabrication of semiconductors and semiconductor devices\"}},\n",
    "{{\"name\": \"NBA\", \"type\": \"sport league\", \"explanation\": \"NBA is the national basketball league\"}},\n",
    "{{\"name\": \"Ford F150\", \"type\": \"vehicle\", \"explanation\": \"Article talks about the Ford F150 truck\"}},\n",
    "] </s>\n",
    "\n",
    "<s>[INST]   \n",
    "What nouns mentioned in the article that can generalize the topic? Output answer in JSON using the following format: {{\"name\": name, \"type\": type, \"explanation\": explanation}}\n",
    "Article: {BODY}\n",
    "[/INST]\"\"\".format(BODY=text, ABOUT=about)\n",
    "\n",
    "display_answer(run_prompt(p12))"
   ]
  },
  {
   "cell_type": "markdown",
   "metadata": {},
   "source": [
    "I am surprised by how good (and easy) was it was to have Llama idenfity those topics. "
   ]
  }
 ],
 "metadata": {
  "kernelspec": {
   "display_name": "Python 3 (ipykernel)",
   "language": "python",
   "name": "python3"
  },
  "language_info": {
   "codemirror_mode": {
    "name": "ipython",
    "version": 3
   },
   "file_extension": ".py",
   "mimetype": "text/x-python",
   "name": "python",
   "nbconvert_exporter": "python",
   "pygments_lexer": "ipython3",
   "version": "3.10.13"
  }
 },
 "nbformat": 4,
 "nbformat_minor": 2
}
